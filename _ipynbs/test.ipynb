{
 "cells": [
  {
   "cell_type": "markdown",
   "metadata": {},
   "source": [
    "## 함수연습 : 다이아몬드 만들기 함수 "
   ]
  },
  {
   "cell_type": "code",
   "execution_count": null,
   "metadata": {
    "collapsed": true
   },
   "outputs": [],
   "source": []
  },
  {
   "cell_type": "code",
   "execution_count": 15,
   "metadata": {
    "collapsed": false
   },
   "outputs": [],
   "source": [
    "def makingdia(size) : \n",
    "    '지정된 크기의 ascii 다이아몬드를 출력해줍니다. '\n",
    "\n",
    "    print('실행중 ... {} 크기의 다이아몬드를 만들고 있습니다... ' .format(size))\n",
    "\n",
    "\n",
    "    print ( '''\n",
    "\n",
    "\n",
    "        ''')\n",
    "\n",
    "    if size % 2 == 0 :\n",
    "        print (\" 홀수만 입력하실 수 있습니다. \")\n",
    "\n",
    "\n",
    "    else :\n",
    "        half_size = int ( (1+size)/2 )\n",
    "\n",
    "        for i in range (1, half_size + 1) :\n",
    "            blank = half_size - i\n",
    "            star = 2*i - 1\n",
    "\n",
    "            print ( '{}{}' .format(' ' * blank , '*' * star)  )\n",
    "\n",
    "        for i in range ( half_size + 1, size + 1 ) :\n",
    "            blank = half_size + i - size - 1\n",
    "            star = 2*size - 2*i + 1\n",
    "\n",
    "            print ( '{}{}' .format(' ' * blank , '*' * star) )\n",
    "\n",
    "        print ( ' 크기 %d 의 다이아가 완성되었습니다. ' % size )\n",
    "        print ( ''' \n",
    "        \n",
    "\n",
    "                ''')"
   ]
  },
  {
   "cell_type": "code",
   "execution_count": null,
   "metadata": {
    "collapsed": true
   },
   "outputs": [],
   "source": []
  },
  {
   "cell_type": "code",
   "execution_count": 8,
   "metadata": {
    "collapsed": false
   },
   "outputs": [
    {
     "name": "stdout",
     "output_type": "stream",
     "text": [
      "실행중 ... 5 크기의 다이아몬드를 만들고 있습니다... \n",
      "\n",
      "\n",
      "\n",
      "        \n",
      "  *\n",
      " ***\n",
      "*****\n",
      " ***\n",
      "  *\n",
      " 크기 5 의 다이아가 완성되었습니다. \n",
      " \n",
      "        \n",
      "\n",
      "                \n"
     ]
    }
   ],
   "source": [
    "makingdia(5)\n"
   ]
  },
  {
   "cell_type": "code",
   "execution_count": 9,
   "metadata": {
    "collapsed": true
   },
   "outputs": [],
   "source": [
    "makingdia?"
   ]
  },
  {
   "cell_type": "code",
   "execution_count": 10,
   "metadata": {
    "collapsed": false
   },
   "outputs": [
    {
     "name": "stdout",
     "output_type": "stream",
     "text": [
      "실행중 ... 10 크기의 다이아몬드를 만들고 있습니다... \n",
      "\n",
      "\n",
      "\n",
      "        \n",
      " 홀수만 입력하실 수 있습니다. \n"
     ]
    }
   ],
   "source": [
    "makingdia(10)"
   ]
  },
  {
   "cell_type": "code",
   "execution_count": 16,
   "metadata": {
    "collapsed": true
   },
   "outputs": [],
   "source": [
    "makingdia?"
   ]
  },
  {
   "cell_type": "markdown",
   "metadata": {
    "collapsed": true
   },
   "source": [
    "## 인자 (arguments) \n"
   ]
  },
  {
   "cell_type": "markdown",
   "metadata": {},
   "source": [
    "* 키워드에 기반한 인자. "
   ]
  },
  {
   "cell_type": "code",
   "execution_count": null,
   "metadata": {
    "collapsed": true
   },
   "outputs": [],
   "source": []
  },
  {
   "cell_type": "code",
   "execution_count": 17,
   "metadata": {
    "collapsed": true
   },
   "outputs": [],
   "source": [
    "def fn_with_keyword_arguments(name='' , age = 0 ): \n",
    "    print('당신의 이름은 {} 이며, 나이는 {}입니다. ' .format(name, age))"
   ]
  },
  {
   "cell_type": "code",
   "execution_count": 18,
   "metadata": {
    "collapsed": false
   },
   "outputs": [
    {
     "name": "stdout",
     "output_type": "stream",
     "text": [
      "당신의 이름은 tom 이며, 나이는 10입니다. \n"
     ]
    }
   ],
   "source": [
    "fn_with_keyword_arguments(name='tom', age = 10 )"
   ]
  },
  {
   "cell_type": "markdown",
   "metadata": {},
   "source": [
    "#만약 윗줄에서 age 키워드에 인자 10을 넣어주지 않았어도, defult 인자 값인 0 이 호출된다. "
   ]
  },
  {
   "cell_type": "code",
   "execution_count": 19,
   "metadata": {
    "collapsed": false
   },
   "outputs": [
    {
     "name": "stdout",
     "output_type": "stream",
     "text": [
      "당신의 이름은 tom 이며, 나이는 0입니다. \n"
     ]
    }
   ],
   "source": [
    "fn_with_keyword_arguments(name='tom')"
   ]
  },
  {
   "cell_type": "markdown",
   "metadata": {},
   "source": [
    "* 이름에 기반한 인자. "
   ]
  },
  {
   "cell_type": "code",
   "execution_count": 20,
   "metadata": {
    "collapsed": true
   },
   "outputs": [],
   "source": [
    "def fn_with_positional_arguments(name, age): \n",
    "    print ( '당신의 이름은 {} 이며, 나이는 {}입니다. ' .format(name, age))\n"
   ]
  },
  {
   "cell_type": "code",
   "execution_count": 22,
   "metadata": {
    "collapsed": false
   },
   "outputs": [
    {
     "name": "stdout",
     "output_type": "stream",
     "text": [
      "당신의 이름은 tom 이며, 나이는 10입니다. \n"
     ]
    }
   ],
   "source": [
    "fn_with_positional_arguments('tom', 10)"
   ]
  },
  {
   "cell_type": "markdown",
   "metadata": {},
   "source": [
    "## 가변인자 \n",
    "* 인자의 갯수를 정해놓지 않고 입력하는 만큼 받는다.  \n",
    "* 형식 : *인자 "
   ]
  },
  {
   "cell_type": "code",
   "execution_count": 23,
   "metadata": {
    "collapsed": false
   },
   "outputs": [
    {
     "name": "stdout",
     "output_type": "stream",
     "text": [
      "(1, 2, 3, 4)\n",
      "10\n",
      "(1, 2, 5)\n",
      "8\n"
     ]
    }
   ],
   "source": [
    "def mysum2(x, y) : \n",
    "    return x + y \n",
    "\n",
    "def mysum3(x, y, z) : \n",
    "    return x + y + z \n",
    "\n",
    "def mysum4 (x, y, z , a) : \n",
    "    return x + y + z + a \n",
    "\n",
    "def mysum ( *args ) :  #args :  튜플 타입. 인자 앞에 *을 붙여준다는 것은 가변인자라는 뜻. 가변인자는 인자의 갯수가 유동적.  \n",
    "    print(args)  # args 가 튜플 형식으로 출력되는 것을 확인하기 위함. \n",
    "    result = 0 \n",
    "    for i in args: \n",
    "        result += i \n",
    "    return result  \n",
    "\n",
    "print( mysum (1, 2, 3, 4))\n",
    "print( mysum (1, 2, 5))\n"
   ]
  },
  {
   "cell_type": "markdown",
   "metadata": {},
   "source": [
    "* 다음처럼 가변인자를 일반 인자와 혼용해서 사용할 수 있다.\n",
    "* 주의점 : 가변인자는 반드시 일반인자 다 쓰고 마지막 칸에 들어가야한다. "
   ]
  },
  {
   "cell_type": "code",
   "execution_count": 26,
   "metadata": {
    "collapsed": false
   },
   "outputs": [
    {
     "name": "stdout",
     "output_type": "stream",
     "text": [
      "55\n"
     ]
    }
   ],
   "source": [
    "def mysum10 ( x, y,*args ) : \n",
    "    result = x + y \n",
    "    for i in args: \n",
    "        result += i \n",
    "    return result  \n",
    "\n",
    "params = [1, 2, 3, 4 ,5 ,6,7, 8, 9 ,10] #list or tuple \n",
    "#위의 리스트 값을 mysum10함수에 순차적으로 넣고 싶다면? unpacking : params ->*params : 한개의 리스트 -> 10개의 인자  \n",
    "\n",
    "print(mysum10(*params))"
   ]
  },
  {
   "cell_type": "markdown",
   "metadata": {},
   "source": [
    "정리 : packing 과 unpacking \n",
    "\n",
    "packing :  가변인자에서 여러개의 인자를 하나의 가변인자로 퉁 쳐서 적고싶을 때 : *args \n",
    "unpacking : 리스트나 튜플 속 수많은 값을 독립적인 인자로 내보내고 싶을 때 : *tuple ,or *list"
   ]
  },
  {
   "cell_type": "markdown",
   "metadata": {},
   "source": [
    "## 키워드 기반 가변인자 "
   ]
  },
  {
   "cell_type": "code",
   "execution_count": 27,
   "metadata": {
    "collapsed": false
   },
   "outputs": [
    {
     "name": "stdout",
     "output_type": "stream",
     "text": [
      "(1, 2, 3, 4)\n",
      "{'sohyun': 11, 'jayne': 10}\n"
     ]
    }
   ],
   "source": [
    "#먼저 이름기반 가변인자 (위의 예)\n",
    "\n",
    "def fnname(*args) : \n",
    "    print ( args )\n",
    "    \n",
    "\n",
    "#키워드 기반 가변인자\n",
    "\n",
    "def fnkeyword(**scores) : \n",
    "    print (scores ) \n",
    "    \n",
    "\n",
    "fnname(1,2,3,4)\n",
    "\n",
    "fnkeyword ( jayne = 10 , sohyun = 11 )"
   ]
  },
  {
   "cell_type": "code",
   "execution_count": 28,
   "metadata": {
    "collapsed": false
   },
   "outputs": [
    {
     "name": "stdout",
     "output_type": "stream",
     "text": [
      "5 {'apple': 10, 'orange': 8}\n",
      "10 {'apple': 11, 'orange': 12}\n"
     ]
    }
   ],
   "source": [
    "#키워드 가변인자 확장 \n",
    "\n",
    "def fnkw( banana = 0 , **scores ):\n",
    "    print(banana, scores)\n",
    "    \n",
    "fnkw ( banana = 5, apple = 10, orange = 8 )\n",
    "\n",
    "kwargs = { 'banana' : 10 , 'apple': 11, 'orange': 12 } \n",
    "fnkw ( **kwargs ) \n"
   ]
  },
  {
   "cell_type": "markdown",
   "metadata": {},
   "source": [
    "## collections.defaultdict "
   ]
  },
  {
   "cell_type": "code",
   "execution_count": 34,
   "metadata": {
    "collapsed": false
   },
   "outputs": [
    {
     "name": "stdout",
     "output_type": "stream",
     "text": [
      "defaultdict(<class 'int'>, {'노랑': 3, '녹색': 1, '빨강': 3, '파랑': 1})\n"
     ]
    }
   ],
   "source": [
    "message = '노랑 빨강 녹색 파랑 노랑 빨강 노랑 빨강' \n",
    "\n",
    "from collections import defaultdict\n",
    "\n",
    "word_count = defaultdict(int) \n",
    "\n",
    "for word in message.split():\n",
    "    \n",
    "    word_count[word] += 1 \n",
    "\n",
    "print(word_count)"
   ]
  },
  {
   "cell_type": "code",
   "execution_count": null,
   "metadata": {
    "collapsed": true
   },
   "outputs": [],
   "source": []
  },
  {
   "cell_type": "code",
   "execution_count": null,
   "metadata": {
    "collapsed": true
   },
   "outputs": [],
   "source": []
  },
  {
   "cell_type": "code",
   "execution_count": null,
   "metadata": {
    "collapsed": true
   },
   "outputs": [],
   "source": []
  },
  {
   "cell_type": "code",
   "execution_count": null,
   "metadata": {
    "collapsed": true
   },
   "outputs": [],
   "source": []
  },
  {
   "cell_type": "code",
   "execution_count": null,
   "metadata": {
    "collapsed": true
   },
   "outputs": [],
   "source": []
  },
  {
   "cell_type": "code",
   "execution_count": null,
   "metadata": {
    "collapsed": true
   },
   "outputs": [],
   "source": []
  },
  {
   "cell_type": "code",
   "execution_count": null,
   "metadata": {
    "collapsed": true
   },
   "outputs": [],
   "source": []
  },
  {
   "cell_type": "code",
   "execution_count": null,
   "metadata": {
    "collapsed": true
   },
   "outputs": [],
   "source": []
  },
  {
   "cell_type": "code",
   "execution_count": null,
   "metadata": {
    "collapsed": true
   },
   "outputs": [],
   "source": []
  },
  {
   "cell_type": "code",
   "execution_count": null,
   "metadata": {
    "collapsed": true
   },
   "outputs": [],
   "source": []
  },
  {
   "cell_type": "code",
   "execution_count": null,
   "metadata": {
    "collapsed": true
   },
   "outputs": [],
   "source": []
  },
  {
   "cell_type": "code",
   "execution_count": null,
   "metadata": {
    "collapsed": true
   },
   "outputs": [],
   "source": []
  },
  {
   "cell_type": "code",
   "execution_count": null,
   "metadata": {
    "collapsed": true
   },
   "outputs": [],
   "source": []
  },
  {
   "cell_type": "code",
   "execution_count": null,
   "metadata": {
    "collapsed": true
   },
   "outputs": [],
   "source": []
  },
  {
   "cell_type": "code",
   "execution_count": null,
   "metadata": {
    "collapsed": true
   },
   "outputs": [],
   "source": []
  },
  {
   "cell_type": "code",
   "execution_count": null,
   "metadata": {
    "collapsed": true
   },
   "outputs": [],
   "source": []
  },
  {
   "cell_type": "code",
   "execution_count": null,
   "metadata": {
    "collapsed": true
   },
   "outputs": [],
   "source": []
  },
  {
   "cell_type": "code",
   "execution_count": null,
   "metadata": {
    "collapsed": true
   },
   "outputs": [],
   "source": []
  },
  {
   "cell_type": "code",
   "execution_count": null,
   "metadata": {
    "collapsed": true
   },
   "outputs": [],
   "source": []
  },
  {
   "cell_type": "code",
   "execution_count": null,
   "metadata": {
    "collapsed": true
   },
   "outputs": [],
   "source": []
  }
 ],
 "metadata": {
  "anaconda-cloud": {},
  "kernelspec": {
   "display_name": "Python [default]",
   "language": "python",
   "name": "python3"
  },
  "language_info": {
   "codemirror_mode": {
    "name": "ipython",
    "version": 3
   },
   "file_extension": ".py",
   "mimetype": "text/x-python",
   "name": "python",
   "nbconvert_exporter": "python",
   "pygments_lexer": "ipython3",
   "version": "3.5.2"
  }
 },
 "nbformat": 4,
 "nbformat_minor": 1
}
